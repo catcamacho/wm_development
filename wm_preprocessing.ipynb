{
 "cells": [
  {
   "cell_type": "code",
   "execution_count": null,
   "metadata": {},
   "outputs": [],
   "source": [
    "#Import packages and set filepaths"
   ]
  },
  {
   "cell_type": "code",
   "execution_count": null,
   "metadata": {},
   "outputs": [],
   "source": [
    "#Data handling nodes, infosource, datasink, etc"
   ]
  },
  {
   "cell_type": "code",
   "execution_count": null,
   "metadata": {},
   "outputs": [],
   "source": [
    "#Unwarping workflow -- nodes associated with it\n",
    "\n",
    "#Cat's WF\n",
    "## Unwarping and ME cleaning nodes\n",
    "\n",
    "# include only the first volume of each PE volume\n",
    "trim_PEs = Node(Trim(end_index=1),name='trim_PEs')\n",
    "\n",
    "# merge to 1 file for topup to calculate the fieldcoef\n",
    "merge_pes = JoinNode(Merge(dimension='t',\n",
    "                           merged_file='merged_pes.nii.gz'), \n",
    "                     name='merge_pes', \n",
    "                     joinsource='pes_selectfiles', \n",
    "                     joinfield='in_files')\n",
    "\n",
    "topup = Node(TOPUP(encoding_file=phase_encoding_file), name='topup')\n",
    "\n",
    "apply_topup = Node(ApplyTOPUP(in_index=[2], encoding_file=phase_encoding_file, \n",
    "                              method='jac', out_corrected='func_unwarped.nii.gz'), \n",
    "                   name='apply_topup')"
   ]
  },
  {
   "cell_type": "code",
   "execution_count": null,
   "metadata": {},
   "outputs": [],
   "source": [
    "#Unwarping workflow -- actual workflow\n",
    "\n",
    "#Cat's WF\n",
    "prepreprocflow = Workflow(name='prepreprocflow')\n",
    "prepreprocflow.connect([(infosource,pes_selectfiles, [('subjid','subjid')]),\n",
    "                        (infosource,funcs_selectfiles, [('subjid','subjid')]),\n",
    "                        (pes_selectfiles, trim_PEs, [('PE_vol','in_file')]), \n",
    "                        (trim_PEs, merge_pes, [('out_file','in_files')]), \n",
    "                        (merge_pes, topup, [('merged_file','in_file')]),\n",
    "                        (topup, apply_topup, [('out_fieldcoef','in_topup_fieldcoef'), \n",
    "                                              ('out_movpar','in_topup_movpar')]),\n",
    "                        (funcs_selectfiles, apply_topup, [('func','in_files')]),\n",
    "                        (apply_topup, datasink, [('out_corrected','unwarped_funcs')])\n",
    "                       ])\n",
    "\n",
    "prepreprocflow.base_dir = workflow_dir\n",
    "prepreprocflow.write_graph(graph2use='flat')\n",
    "prepreprocflow.run('MultiProc', plugin_args={'n_procs': 4, 'memory_gb':10})"
   ]
  },
  {
   "cell_type": "code",
   "execution_count": null,
   "metadata": {},
   "outputs": [],
   "source": [
    "#preprocessing workflow -- Nodes\n",
    "\n",
    "'''Goals:\n",
    "1. turn off skullstripping in t1_fitter script\n",
    "2. Register qT1 to DWI b0 volume\n",
    "3. Double check qt1 and DTI voxel size are both 2mm^3\n",
    "4. QC DTI -- quantify fd volume by volume --> use FSL motionoutliers\n",
    "  a. use two thresholds: 1mm, and 1/2 mm\n",
    "  b. remove volumes that are above each of those thresholds *set iterable on threshold node\n",
    "  c. Take bvec file and remove volumes that were take out because of motion --> plot remaining directions and b values (color) --> save image\n",
    "  "
   ]
  },
  {
   "cell_type": "code",
   "execution_count": null,
   "metadata": {},
   "outputs": [],
   "source": [
    "#Preprocessing workflow -- actual workflow"
   ]
  },
  {
   "cell_type": "code",
   "execution_count": null,
   "metadata": {},
   "outputs": [],
   "source": []
  }
 ],
 "metadata": {
  "kernelspec": {
   "display_name": "Python 3",
   "language": "python",
   "name": "python3"
  },
  "language_info": {
   "codemirror_mode": {
    "name": "ipython",
    "version": 3
   },
   "file_extension": ".py",
   "mimetype": "text/x-python",
   "name": "python",
   "nbconvert_exporter": "python",
   "pygments_lexer": "ipython3",
   "version": "3.6.3"
  }
 },
 "nbformat": 4,
 "nbformat_minor": 2
}
