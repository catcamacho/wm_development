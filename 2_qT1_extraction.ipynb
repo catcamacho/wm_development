{
 "cells": [
  {
   "cell_type": "markdown",
   "metadata": {},
   "source": [
    "### Extract qT1 values for DTI tracts"
   ]
  },
  {
   "cell_type": "code",
   "execution_count": 1,
   "metadata": {
    "collapsed": true
   },
   "outputs": [],
   "source": [
    "#1. Import necessary libraries\n",
    "\n",
    "import pandas as pd\n",
    "import os\n",
    "from nipype.interfaces.fsl.preprocess import FLIRT"
   ]
  },
  {
   "cell_type": "code",
   "execution_count": 2,
   "metadata": {
    "collapsed": true
   },
   "outputs": [],
   "source": [
    "#2. Set paths and variable names\n",
    "user = 'LS'\n",
    "\n",
    "if user == 'LS':\n",
    "    home = '/Volumes/group/active/BABIES/BABIES_qT1'\n",
    "elif user == 'CC':\n",
    "    home = 'Cats qT1 dir'\n"
   ]
  },
  {
   "cell_type": "code",
   "execution_count": 1,
   "metadata": {
    "collapsed": true
   },
   "outputs": [],
   "source": [
    "## Cat's Scripts -- grabbing data and processing DWI ##"
   ]
  },
  {
   "cell_type": "code",
   "execution_count": null,
   "metadata": {
    "collapsed": true
   },
   "outputs": [],
   "source": [
    "#3. Register T1 to b0 volume; qT1 to T1\n",
    "flirtb0 = Node(FLIRT(in_file = t1),\n",
    "            name = 'flirtb0')\n",
    "flirtq = Node(FLIRT(in_file = t1),\n",
    "            name = 'flirtq')"
   ]
  },
  {
   "cell_type": "code",
   "execution_count": null,
   "metadata": {
    "collapsed": true
   },
   "outputs": [],
   "source": [
    "#4. Overlay tract mask onto qT1 data\n",
    "\n",
    "#fslmaths 'image_1.nii.gz' -mas 'mask.nii.gz' 'output_image.nii.gz'\n",
    "#Apply the mask (inverted?) so only desirable tracts are left - black out non-tracts"
   ]
  },
  {
   "cell_type": "code",
   "execution_count": null,
   "metadata": {
    "collapsed": true
   },
   "outputs": [],
   "source": [
    "#5. Map T1 values to DTI nodes (extracting means from same slices, same slice thickness, etc)"
   ]
  },
  {
   "cell_type": "code",
   "execution_count": null,
   "metadata": {
    "collapsed": true
   },
   "outputs": [],
   "source": [
    "#6. Extract T1 values for tract into CSV"
   ]
  }
 ],
 "metadata": {
  "celltoolbar": "Raw Cell Format",
  "kernelspec": {
   "display_name": "Python 3",
   "language": "python",
   "name": "python3"
  },
  "language_info": {
   "codemirror_mode": {
    "name": "ipython",
    "version": 3
   },
   "file_extension": ".py",
   "mimetype": "text/x-python",
   "name": "python",
   "nbconvert_exporter": "python",
   "pygments_lexer": "ipython3",
   "version": "3.6.3"
  }
 },
 "nbformat": 4,
 "nbformat_minor": 2
}
